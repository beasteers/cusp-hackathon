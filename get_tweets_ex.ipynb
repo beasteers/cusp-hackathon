{
 "cells": [
  {
   "cell_type": "code",
   "execution_count": 2,
   "metadata": {},
   "outputs": [
    {
     "name": "stdout",
     "output_type": "stream",
     "text": [
      "Collecting pyquery\n",
      "  Downloading pyquery-1.3.0-py2.py3-none-any.whl\n",
      "Collecting cssselect>0.7.9 (from pyquery)\n",
      "  Downloading cssselect-1.0.1-py2.py3-none-any.whl\n",
      "Collecting lxml>=2.1 (from pyquery)\n",
      "  Downloading lxml-4.1.1-cp27-cp27m-win_amd64.whl (3.6MB)\n",
      "Installing collected packages: cssselect, lxml, pyquery\n",
      "Successfully installed cssselect-1.0.1 lxml-4.1.1 pyquery-1.3.0\n"
     ]
    }
   ],
   "source": [
    "!pip install pyquery"
   ]
  },
  {
   "cell_type": "code",
   "execution_count": 3,
   "metadata": {},
   "outputs": [
    {
     "name": "stdout",
     "output_type": "stream",
     "text": [
      "90\n"
     ]
    }
   ],
   "source": [
    "import got\n",
    "from got import*\n",
    "\n",
    "# Get tweets\n",
    "tweetCriteria = got.manager.TweetCriteria().set(\n",
    "\tq='Harvey Weinstein', username=None, since='2017-11-28', until='2017-11-29',\n",
    "\tnear='New York City, NY',\twithin='15mi', max_tweets=100, top_tweets=True\n",
    ")\n",
    "pulled_tweets = got.manager.TweetManager.getTweets(tweetCriteria)\n",
    "print(len(pulled_tweets))"
   ]
  },
  {
   "cell_type": "code",
   "execution_count": null,
   "metadata": {
    "collapsed": true
   },
   "outputs": [],
   "source": []
  }
 ],
 "metadata": {
  "kernelspec": {
   "display_name": "Python 2",
   "language": "python",
   "name": "python2"
  },
  "language_info": {
   "codemirror_mode": {
    "name": "ipython",
    "version": 2
   },
   "file_extension": ".py",
   "mimetype": "text/x-python",
   "name": "python",
   "nbconvert_exporter": "python",
   "pygments_lexer": "ipython2",
   "version": "2.7.14"
  }
 },
 "nbformat": 4,
 "nbformat_minor": 2
}
