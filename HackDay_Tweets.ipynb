{
 "cells": [
  {
   "cell_type": "code",
   "execution_count": null,
   "metadata": {
    "collapsed": true
   },
   "outputs": [],
   "source": [
    "import nltk\n",
    "nltk.download()"
   ]
  },
  {
   "cell_type": "code",
   "execution_count": 29,
   "metadata": {
    "collapsed": true
   },
   "outputs": [],
   "source": [
    "import pandas as pd\n",
    "import numpy as np\n",
    "import got\n",
    "import nlp\n",
    "# encoding=utf8\n",
    "import sys\n",
    "reload(sys)\n",
    "sys.setdefaultencoding('utf8')\n",
    "from collections import Counter"
   ]
  },
  {
   "cell_type": "code",
   "execution_count": null,
   "metadata": {
    "collapsed": true
   },
   "outputs": [],
   "source": [
    "# Get tweets\n",
    "results = []\n",
    "for i in range(5, 21):\n",
    "    tweetCriteria = got.manager.TweetCriteria().set(\n",
    "        q='\"Harvey Weinstein\"', since= '2017-10-{}'.format(i), until='2017-10-{}'.format(i+1),max_tweets=100,top_tweets=True\n",
    "    )\n",
    "\n",
    "    pulled_tweets = got.manager.TweetManager.getTweets(tweetCriteria)\n",
    "    results.append(pulled_tweets)\n",
    "#len(pulled_tweets)"
   ]
  },
  {
   "cell_type": "code",
   "execution_count": null,
   "metadata": {
    "collapsed": true
   },
   "outputs": [],
   "source": [
    "#results"
   ]
  },
  {
   "cell_type": "code",
   "execution_count": null,
   "metadata": {
    "collapsed": true
   },
   "outputs": [],
   "source": [
    "#map(type, results)"
   ]
  },
  {
   "cell_type": "code",
   "execution_count": null,
   "metadata": {
    "collapsed": true
   },
   "outputs": [],
   "source": [
    "#pulled_tweets"
   ]
  },
  {
   "cell_type": "code",
   "execution_count": null,
   "metadata": {
    "collapsed": true
   },
   "outputs": [],
   "source": [
    "w = pd.DataFrame([t.__dict__ for tweets in results for t in tweets])\n",
    "w.head()"
   ]
  },
  {
   "cell_type": "code",
   "execution_count": null,
   "metadata": {
    "collapsed": true
   },
   "outputs": [],
   "source": [
    "ws = w[['date','geo','permalink','retweets','text']]\n",
    "ws.head()"
   ]
  },
  {
   "cell_type": "code",
   "execution_count": null,
   "metadata": {
    "collapsed": true
   },
   "outputs": [],
   "source": [
    "ws.to_csv('weinstein.csv')"
   ]
  },
  {
   "cell_type": "markdown",
   "metadata": {},
   "source": [
    "## Ashley Judd"
   ]
  },
  {
   "cell_type": "code",
   "execution_count": null,
   "metadata": {
    "collapsed": true
   },
   "outputs": [],
   "source": [
    "# Get tweets\n",
    "results = []\n",
    "for i in range(5, 31):\n",
    "    tweetCriteria = got.manager.TweetCriteria().set(\n",
    "        q='\"Ashley Judd\"', since= '2017-10-{}'.format(i), until='2017-10-{}'.format(i+1),max_tweets=100,top_tweets=True\n",
    "    )\n",
    "\n",
    "    pulled_tweets = got.manager.TweetManager.getTweets(tweetCriteria)\n",
    "    results.append(pulled_tweets)"
   ]
  },
  {
   "cell_type": "code",
   "execution_count": null,
   "metadata": {
    "collapsed": true
   },
   "outputs": [],
   "source": [
    "aj = pd.DataFrame([t.__dict__ for tweets in results for t in tweets])\n",
    "aj.head()"
   ]
  },
  {
   "cell_type": "code",
   "execution_count": null,
   "metadata": {
    "collapsed": true
   },
   "outputs": [],
   "source": [
    "ajs = aj[['date','geo','permalink','retweets','text']]\n",
    "aj.head()"
   ]
  },
  {
   "cell_type": "code",
   "execution_count": null,
   "metadata": {
    "collapsed": true
   },
   "outputs": [],
   "source": [
    "aj.to_csv('ashley.csv')"
   ]
  },
  {
   "cell_type": "markdown",
   "metadata": {},
   "source": [
    "## Rose McGowan"
   ]
  },
  {
   "cell_type": "code",
   "execution_count": 2,
   "metadata": {
    "collapsed": true
   },
   "outputs": [],
   "source": [
    "# Get tweets\n",
    "results = []\n",
    "for i in range(5, 31):\n",
    "    tweetCriteria = got.manager.TweetCriteria().set(\n",
    "        q='\"Rose McGowan\"', since= '2017-10-{}'.format(i), until='2017-10-{}'.format(i+1),max_tweets=100,top_tweets=True\n",
    "    )\n",
    "\n",
    "    pulled_tweets = got.manager.TweetManager.getTweets(tweetCriteria)\n",
    "    results.append(pulled_tweets)"
   ]
  },
  {
   "cell_type": "code",
   "execution_count": 6,
   "metadata": {},
   "outputs": [
    {
     "data": {
      "text/html": [
       "<div>\n",
       "<style>\n",
       "    .dataframe thead tr:only-child th {\n",
       "        text-align: right;\n",
       "    }\n",
       "\n",
       "    .dataframe thead th {\n",
       "        text-align: left;\n",
       "    }\n",
       "\n",
       "    .dataframe tbody tr th {\n",
       "        vertical-align: top;\n",
       "    }\n",
       "</style>\n",
       "<table border=\"1\" class=\"dataframe\">\n",
       "  <thead>\n",
       "    <tr style=\"text-align: right;\">\n",
       "      <th></th>\n",
       "      <th>date</th>\n",
       "      <th>favorites</th>\n",
       "      <th>geo</th>\n",
       "      <th>hashtags</th>\n",
       "      <th>id</th>\n",
       "      <th>mentions</th>\n",
       "      <th>permalink</th>\n",
       "      <th>retweets</th>\n",
       "      <th>text</th>\n",
       "      <th>username</th>\n",
       "    </tr>\n",
       "  </thead>\n",
       "  <tbody>\n",
       "    <tr>\n",
       "      <th>0</th>\n",
       "      <td>2017-10-05 19:51:45</td>\n",
       "      <td>0</td>\n",
       "      <td></td>\n",
       "      <td>[]</td>\n",
       "      <td>916088550998896643</td>\n",
       "      <td>[@toofab]</td>\n",
       "      <td>https://twitter.com/mwenger1993/status/9160885...</td>\n",
       "      <td>1</td>\n",
       "      <td>Rose McGowan , Lena Dunham Among Stars Speakin...</td>\n",
       "      <td>mwenger1993</td>\n",
       "    </tr>\n",
       "    <tr>\n",
       "      <th>1</th>\n",
       "      <td>2017-10-05 19:50:01</td>\n",
       "      <td>0</td>\n",
       "      <td></td>\n",
       "      <td>[#8]</td>\n",
       "      <td>916088115340742657</td>\n",
       "      <td>[]</td>\n",
       "      <td>https://twitter.com/SamCimino/status/916088115...</td>\n",
       "      <td>0</td>\n",
       "      <td>#8 THE SOUND (2017) - Rose McGowan as a wannab...</td>\n",
       "      <td>SamCimino</td>\n",
       "    </tr>\n",
       "    <tr>\n",
       "      <th>2</th>\n",
       "      <td>2017-10-05 19:48:08</td>\n",
       "      <td>0</td>\n",
       "      <td></td>\n",
       "      <td>[]</td>\n",
       "      <td>916087643342913536</td>\n",
       "      <td>[]</td>\n",
       "      <td>https://twitter.com/publishyoufree/status/9160...</td>\n",
       "      <td>0</td>\n",
       "      <td>Rose McGowan on What Advice She Would Give Her...</td>\n",
       "      <td>publishyoufree</td>\n",
       "    </tr>\n",
       "    <tr>\n",
       "      <th>3</th>\n",
       "      <td>2017-10-05 19:43:05</td>\n",
       "      <td>2</td>\n",
       "      <td></td>\n",
       "      <td>[]</td>\n",
       "      <td>916086371399254016</td>\n",
       "      <td>[]</td>\n",
       "      <td>https://twitter.com/latimesent/status/91608637...</td>\n",
       "      <td>3</td>\n",
       "      <td>Lena Dunham, Rose McGowan add voices to Harvey...</td>\n",
       "      <td>latimesent</td>\n",
       "    </tr>\n",
       "    <tr>\n",
       "      <th>4</th>\n",
       "      <td>2017-10-05 19:38:32</td>\n",
       "      <td>1</td>\n",
       "      <td></td>\n",
       "      <td>[#HarveyWeinstein, #Rosemcgowan]</td>\n",
       "      <td>916085225280565248</td>\n",
       "      <td>[]</td>\n",
       "      <td>https://twitter.com/goldensack/status/91608522...</td>\n",
       "      <td>0</td>\n",
       "      <td>Rose McGowan claims he raped her years ago and...</td>\n",
       "      <td>goldensack KurtSchlichter jaketapper</td>\n",
       "    </tr>\n",
       "  </tbody>\n",
       "</table>\n",
       "</div>"
      ],
      "text/plain": [
       "                 date  favorites geo                          hashtags  \\\n",
       "0 2017-10-05 19:51:45          0                                    []   \n",
       "1 2017-10-05 19:50:01          0                                  [#8]   \n",
       "2 2017-10-05 19:48:08          0                                    []   \n",
       "3 2017-10-05 19:43:05          2                                    []   \n",
       "4 2017-10-05 19:38:32          1      [#HarveyWeinstein, #Rosemcgowan]   \n",
       "\n",
       "                   id   mentions  \\\n",
       "0  916088550998896643  [@toofab]   \n",
       "1  916088115340742657         []   \n",
       "2  916087643342913536         []   \n",
       "3  916086371399254016         []   \n",
       "4  916085225280565248         []   \n",
       "\n",
       "                                           permalink  retweets  \\\n",
       "0  https://twitter.com/mwenger1993/status/9160885...         1   \n",
       "1  https://twitter.com/SamCimino/status/916088115...         0   \n",
       "2  https://twitter.com/publishyoufree/status/9160...         0   \n",
       "3  https://twitter.com/latimesent/status/91608637...         3   \n",
       "4  https://twitter.com/goldensack/status/91608522...         0   \n",
       "\n",
       "                                                text  \\\n",
       "0  Rose McGowan , Lena Dunham Among Stars Speakin...   \n",
       "1  #8 THE SOUND (2017) - Rose McGowan as a wannab...   \n",
       "2  Rose McGowan on What Advice She Would Give Her...   \n",
       "3  Lena Dunham, Rose McGowan add voices to Harvey...   \n",
       "4  Rose McGowan claims he raped her years ago and...   \n",
       "\n",
       "                               username  \n",
       "0                           mwenger1993  \n",
       "1                             SamCimino  \n",
       "2                        publishyoufree  \n",
       "3                            latimesent  \n",
       "4  goldensack KurtSchlichter jaketapper  "
      ]
     },
     "execution_count": 6,
     "metadata": {},
     "output_type": "execute_result"
    }
   ],
   "source": [
    "rg = pd.DataFrame([t.__dict__ for tweets in results for t in tweets])\n",
    "rg.head()"
   ]
  },
  {
   "cell_type": "code",
   "execution_count": 7,
   "metadata": {
    "collapsed": true
   },
   "outputs": [],
   "source": [
    "rgs = rg[['date','geo','permalink','retweets','text']]\n",
    "rgs.to_csv('rose.csv')"
   ]
  },
  {
   "cell_type": "markdown",
   "metadata": {},
   "source": [
    "## Counting Words"
   ]
  },
  {
   "cell_type": "code",
   "execution_count": 10,
   "metadata": {},
   "outputs": [
    {
     "data": {
      "text/html": [
       "<div>\n",
       "<style>\n",
       "    .dataframe thead tr:only-child th {\n",
       "        text-align: right;\n",
       "    }\n",
       "\n",
       "    .dataframe thead th {\n",
       "        text-align: left;\n",
       "    }\n",
       "\n",
       "    .dataframe tbody tr th {\n",
       "        vertical-align: top;\n",
       "    }\n",
       "</style>\n",
       "<table border=\"1\" class=\"dataframe\">\n",
       "  <thead>\n",
       "    <tr style=\"text-align: right;\">\n",
       "      <th></th>\n",
       "      <th>date</th>\n",
       "      <th>geo</th>\n",
       "      <th>permalink</th>\n",
       "      <th>retweets</th>\n",
       "      <th>text</th>\n",
       "      <th>neg</th>\n",
       "      <th>neu</th>\n",
       "      <th>pos</th>\n",
       "      <th>compound</th>\n",
       "    </tr>\n",
       "  </thead>\n",
       "  <tbody>\n",
       "    <tr>\n",
       "      <th>0</th>\n",
       "      <td>2017-10-05 19:59:59</td>\n",
       "      <td>NaN</td>\n",
       "      <td>https://twitter.com/Wit2Tweet/status/916090624...</td>\n",
       "      <td>0</td>\n",
       "      <td>Quotes From The Harvey Weinstein 'New York Tim...</td>\n",
       "      <td>0.073</td>\n",
       "      <td>0.822</td>\n",
       "      <td>0.105</td>\n",
       "      <td>0.1779</td>\n",
       "    </tr>\n",
       "    <tr>\n",
       "      <th>1</th>\n",
       "      <td>2017-10-05 19:59:58</td>\n",
       "      <td>NaN</td>\n",
       "      <td>https://twitter.com/SheeitDawg/status/91609061...</td>\n",
       "      <td>0</td>\n",
       "      <td>Can't wait to see if Harvey Weinstein 's big a...</td>\n",
       "      <td>0.000</td>\n",
       "      <td>1.000</td>\n",
       "      <td>0.000</td>\n",
       "      <td>0.0000</td>\n",
       "    </tr>\n",
       "    <tr>\n",
       "      <th>2</th>\n",
       "      <td>2017-10-05 19:59:52</td>\n",
       "      <td>NaN</td>\n",
       "      <td>https://twitter.com/jacobwe/status/91609059305...</td>\n",
       "      <td>0</td>\n",
       "      <td>People who won't be suing the New York Times: ...</td>\n",
       "      <td>0.000</td>\n",
       "      <td>0.858</td>\n",
       "      <td>0.142</td>\n",
       "      <td>0.2057</td>\n",
       "    </tr>\n",
       "    <tr>\n",
       "      <th>3</th>\n",
       "      <td>2017-10-05 19:59:48</td>\n",
       "      <td>NaN</td>\n",
       "      <td>https://twitter.com/fundasila1/status/91609057...</td>\n",
       "      <td>0</td>\n",
       "      <td>Bets and coupons of 6 October. Good luck to al...</td>\n",
       "      <td>0.000</td>\n",
       "      <td>0.643</td>\n",
       "      <td>0.357</td>\n",
       "      <td>0.8360</td>\n",
       "    </tr>\n",
       "    <tr>\n",
       "      <th>4</th>\n",
       "      <td>2017-10-05 19:59:46</td>\n",
       "      <td>NaN</td>\n",
       "      <td>https://twitter.com/nickprice91/status/9160905...</td>\n",
       "      <td>0</td>\n",
       "      <td>It’s complicated: Dems who took money from Har...</td>\n",
       "      <td>0.000</td>\n",
       "      <td>1.000</td>\n",
       "      <td>0.000</td>\n",
       "      <td>0.0000</td>\n",
       "    </tr>\n",
       "  </tbody>\n",
       "</table>\n",
       "</div>"
      ],
      "text/plain": [
       "                  date  geo  \\\n",
       "0  2017-10-05 19:59:59  NaN   \n",
       "1  2017-10-05 19:59:58  NaN   \n",
       "2  2017-10-05 19:59:52  NaN   \n",
       "3  2017-10-05 19:59:48  NaN   \n",
       "4  2017-10-05 19:59:46  NaN   \n",
       "\n",
       "                                           permalink  retweets  \\\n",
       "0  https://twitter.com/Wit2Tweet/status/916090624...         0   \n",
       "1  https://twitter.com/SheeitDawg/status/91609061...         0   \n",
       "2  https://twitter.com/jacobwe/status/91609059305...         0   \n",
       "3  https://twitter.com/fundasila1/status/91609057...         0   \n",
       "4  https://twitter.com/nickprice91/status/9160905...         0   \n",
       "\n",
       "                                                text    neg    neu    pos  \\\n",
       "0  Quotes From The Harvey Weinstein 'New York Tim...  0.073  0.822  0.105   \n",
       "1  Can't wait to see if Harvey Weinstein 's big a...  0.000  1.000  0.000   \n",
       "2  People who won't be suing the New York Times: ...  0.000  0.858  0.142   \n",
       "3  Bets and coupons of 6 October. Good luck to al...  0.000  0.643  0.357   \n",
       "4  It’s complicated: Dems who took money from Har...  0.000  1.000  0.000   \n",
       "\n",
       "   compound  \n",
       "0    0.1779  \n",
       "1    0.0000  \n",
       "2    0.2057  \n",
       "3    0.8360  \n",
       "4    0.0000  "
      ]
     },
     "execution_count": 10,
     "metadata": {},
     "output_type": "execute_result"
    }
   ],
   "source": [
    "wss = pd.read_csv('weinstein_sentiment.csv',delimiter='\\t').drop('Unnamed: 0', axis=1)\n",
    "wss.head()"
   ]
  },
  {
   "cell_type": "code",
   "execution_count": null,
   "metadata": {
    "collapsed": true
   },
   "outputs": [],
   "source": []
  },
  {
   "cell_type": "code",
   "execution_count": 41,
   "metadata": {
    "collapsed": true
   },
   "outputs": [],
   "source": [
    "wss['tokens'] = wss.text.apply(nlp.tweet_tokenize)"
   ]
  },
  {
   "cell_type": "code",
   "execution_count": 42,
   "metadata": {},
   "outputs": [
    {
     "data": {
      "text/html": [
       "<div>\n",
       "<style>\n",
       "    .dataframe thead tr:only-child th {\n",
       "        text-align: right;\n",
       "    }\n",
       "\n",
       "    .dataframe thead th {\n",
       "        text-align: left;\n",
       "    }\n",
       "\n",
       "    .dataframe tbody tr th {\n",
       "        vertical-align: top;\n",
       "    }\n",
       "</style>\n",
       "<table border=\"1\" class=\"dataframe\">\n",
       "  <thead>\n",
       "    <tr style=\"text-align: right;\">\n",
       "      <th></th>\n",
       "      <th>tokens</th>\n",
       "    </tr>\n",
       "  </thead>\n",
       "  <tbody>\n",
       "    <tr>\n",
       "      <th>0</th>\n",
       "      <td>[Quotes, From, The, Harvey, Weinstein, New, Yo...</td>\n",
       "    </tr>\n",
       "    <tr>\n",
       "      <th>1</th>\n",
       "      <td>[Can't, wait, see, Harvey, Weinstein, big, ant...</td>\n",
       "    </tr>\n",
       "    <tr>\n",
       "      <th>2</th>\n",
       "      <td>[People, won't, suing, New, York, Times, Harve...</td>\n",
       "    </tr>\n",
       "    <tr>\n",
       "      <th>3</th>\n",
       "      <td>[Bets, coupons, 6, October, Good, luck, Jose, ...</td>\n",
       "    </tr>\n",
       "    <tr>\n",
       "      <th>4</th>\n",
       "      <td>[It, �, �, �, complicated, Dems, took, money, ...</td>\n",
       "    </tr>\n",
       "  </tbody>\n",
       "</table>\n",
       "</div>"
      ],
      "text/plain": [
       "                                              tokens\n",
       "0  [Quotes, From, The, Harvey, Weinstein, New, Yo...\n",
       "1  [Can't, wait, see, Harvey, Weinstein, big, ant...\n",
       "2  [People, won't, suing, New, York, Times, Harve...\n",
       "3  [Bets, coupons, 6, October, Good, luck, Jose, ...\n",
       "4  [It, �, �, �, complicated, Dems, took, money, ..."
      ]
     },
     "execution_count": 42,
     "metadata": {},
     "output_type": "execute_result"
    }
   ],
   "source": [
    "wss[['tokens']].head()"
   ]
  },
  {
   "cell_type": "code",
   "execution_count": 22,
   "metadata": {
    "collapsed": true
   },
   "outputs": [],
   "source": [
    "pcounter = Counter()\n",
    "psentiment = {}\n",
    "ncounter = Counter()\n",
    "nsentiment = {}\n",
    "\n",
    "for i, tweet in wss.iterrows():\n",
    "    for word in tweet['tokens']:\n",
    "        count_update = 1 + tweet['retweets']\n",
    "        if tweet['compound'] > 0:\n",
    "            pcounter.update({word: count_update})\n",
    "            psentiment[word] = psentiment.get(word, 0) + count_update * tweet['compound']\n",
    "        else:\n",
    "            ncounter.update({word: count_update})\n",
    "            nsentiment[word] = nsentiment.get(word, 0) + count_update * tweet['compound'] "
   ]
  },
  {
   "cell_type": "code",
   "execution_count": 30,
   "metadata": {},
   "outputs": [
    {
     "data": {
      "text/plain": [
       "([('Harvey', 1197, 0.4851200501253136),\n",
       "  ('Weinstein', 1170, 0.48853470085470124),\n",
       "  ('\\x80', 996, 0.49386104417670695),\n",
       "  ('\\xe2', 996, 0.49386104417670695),\n",
       "  ('\\xa6', 876, 0.4945827625570776),\n",
       "  ('sexual', 412, 0.5703968446601942),\n",
       "  ('Wow', 408, 0.5758580882352942),\n",
       "  ('10', 404, 0.5779712871287129),\n",
       "  ('claims', 402, 0.5783124378109453),\n",
       "  ('allowed', 401, 0.5769825436408977),\n",
       "  ('settled', 400, 0.5778),\n",
       "  ('harassment', 400, 0.5778),\n",
       "  ('12', 400, 0.5778),\n",
       "  ('crime', 400, 0.5778),\n",
       "  ('contract', 400, 0.5778),\n",
       "  ('weinstein-contract-the-weinstein-company-sexual-harassment-firing-illegal',\n",
       "   400,\n",
       "   0.5778),\n",
       "  ('charged', 400, 0.5778),\n",
       "  ('long', 400, 0.5778),\n",
       "  (\"wasn't\", 400, 0.5778),\n",
       "  ('#2017', 400, 0.5778)],\n",
       " [('Weinstein', 5832, -0.33146743827160496),\n",
       "  ('Harvey', 5762, -0.32683946546338066),\n",
       "  ('\\xe2', 5409, -0.2084038639304861),\n",
       "  ('\\x80', 5382, -0.20944936826458552),\n",
       "  ('\\xa6', 2531, -0.29220098775187664),\n",
       "  ('\\x99', 1817, -0.1445809576224546),\n",
       "  ('Lupita', 1411, -0.29093933380581155),\n",
       "  ('Hollywood', 1129, -0.4978403897254206),\n",
       "  ('I', 1044, -0.11907490421455937),\n",
       "  ('silence', 930, -0.5325552688172043),\n",
       "  ('left', 882, -0.5427249433106576),\n",
       "  ('Media', 876, -0.5426382420091325),\n",
       "  ('past', 867, -0.5400349480968858),\n",
       "  (\"they're\", 866, -0.5413035796766744),\n",
       "  ('destroy', 863, -0.5423),\n",
       "  ('Nyong', 827, -0.1263178960096735),\n",
       "  ('women', 697, -0.4917767575322812),\n",
       "  ('harassment', 686, -0.5698829446064142),\n",
       "  ('Her', 633, -0.02217219589257504),\n",
       "  ('About', 621, -0.04068615136876007)])"
      ]
     },
     "execution_count": 30,
     "metadata": {},
     "output_type": "execute_result"
    }
   ],
   "source": [
    "[\n",
    "    (word, count, psentiment[word] / count)\n",
    "    for word, count in pcounter.most_common(20)\n",
    "], [\n",
    "    (word, count, nsentiment[word] / count)\n",
    "    for word, count in ncounter.most_common(20)\n",
    "]   "
   ]
  },
  {
   "cell_type": "code",
   "execution_count": 34,
   "metadata": {},
   "outputs": [],
   "source": [
    "harvey_count_senti = pd.DataFrame([\n",
    "   (word, pcounter.get(word, 0), ncounter.get(word, 0), psentiment.get(word, 0) / pcounter.get(word, 1), nsentiment.get(word, 0) / ncounter.get(word, 1))\n",
    "    for word in set(pcounter.elements()) & set(ncounter.elements())\n",
    "], columns=['word', 'positive count', 'negative count', 'positive sentiment', 'negative sentiment'])"
   ]
  },
  {
   "cell_type": "code",
   "execution_count": 36,
   "metadata": {},
   "outputs": [],
   "source": [
    "harvey_count_senti.to_csv('harvey_count_senti.csv')"
   ]
  },
  {
   "cell_type": "code",
   "execution_count": 37,
   "metadata": {
    "scrolled": false
   },
   "outputs": [
    {
     "data": {
      "text/html": [
       "<div>\n",
       "<style>\n",
       "    .dataframe thead tr:only-child th {\n",
       "        text-align: right;\n",
       "    }\n",
       "\n",
       "    .dataframe thead th {\n",
       "        text-align: left;\n",
       "    }\n",
       "\n",
       "    .dataframe tbody tr th {\n",
       "        vertical-align: top;\n",
       "    }\n",
       "</style>\n",
       "<table border=\"1\" class=\"dataframe\">\n",
       "  <thead>\n",
       "    <tr style=\"text-align: right;\">\n",
       "      <th></th>\n",
       "      <th>word</th>\n",
       "      <th>positive count</th>\n",
       "      <th>negative count</th>\n",
       "      <th>positive sentiment</th>\n",
       "      <th>negative sentiment</th>\n",
       "    </tr>\n",
       "  </thead>\n",
       "  <tbody>\n",
       "    <tr>\n",
       "      <th>0</th>\n",
       "      <td>forget</td>\n",
       "      <td>78</td>\n",
       "      <td>1</td>\n",
       "      <td>0.428450</td>\n",
       "      <td>-0.025800</td>\n",
       "    </tr>\n",
       "    <tr>\n",
       "      <th>1</th>\n",
       "      <td>child</td>\n",
       "      <td>1</td>\n",
       "      <td>16</td>\n",
       "      <td>0.526700</td>\n",
       "      <td>-0.742944</td>\n",
       "    </tr>\n",
       "    <tr>\n",
       "      <th>2</th>\n",
       "      <td>Macron</td>\n",
       "      <td>3</td>\n",
       "      <td>1</td>\n",
       "      <td>0.752567</td>\n",
       "      <td>0.000000</td>\n",
       "    </tr>\n",
       "    <tr>\n",
       "      <th>3</th>\n",
       "      <td>daughter's</td>\n",
       "      <td>23</td>\n",
       "      <td>1</td>\n",
       "      <td>0.764200</td>\n",
       "      <td>-0.807400</td>\n",
       "    </tr>\n",
       "    <tr>\n",
       "      <th>4</th>\n",
       "      <td>legal</td>\n",
       "      <td>1</td>\n",
       "      <td>2</td>\n",
       "      <td>0.128000</td>\n",
       "      <td>-0.750600</td>\n",
       "    </tr>\n",
       "  </tbody>\n",
       "</table>\n",
       "</div>"
      ],
      "text/plain": [
       "         word  positive count  negative count  positive sentiment  \\\n",
       "0      forget              78               1            0.428450   \n",
       "1       child               1              16            0.526700   \n",
       "2      Macron               3               1            0.752567   \n",
       "3  daughter's              23               1            0.764200   \n",
       "4       legal               1               2            0.128000   \n",
       "\n",
       "   negative sentiment  \n",
       "0           -0.025800  \n",
       "1           -0.742944  \n",
       "2            0.000000  \n",
       "3           -0.807400  \n",
       "4           -0.750600  "
      ]
     },
     "execution_count": 37,
     "metadata": {},
     "output_type": "execute_result"
    }
   ],
   "source": [
    "harvey_count_senti.head()"
   ]
  },
  {
   "cell_type": "code",
   "execution_count": 52,
   "metadata": {},
   "outputs": [
    {
     "data": {
      "text/plain": [
       "(850, 5)"
      ]
     },
     "execution_count": 52,
     "metadata": {},
     "output_type": "execute_result"
    }
   ],
   "source": [
    "harvey_count_senti.shape"
   ]
  },
  {
   "cell_type": "markdown",
   "metadata": {},
   "source": [
    "## For Asheley Judd"
   ]
  },
  {
   "cell_type": "code",
   "execution_count": 38,
   "metadata": {},
   "outputs": [
    {
     "data": {
      "text/html": [
       "<div>\n",
       "<style>\n",
       "    .dataframe thead tr:only-child th {\n",
       "        text-align: right;\n",
       "    }\n",
       "\n",
       "    .dataframe thead th {\n",
       "        text-align: left;\n",
       "    }\n",
       "\n",
       "    .dataframe tbody tr th {\n",
       "        vertical-align: top;\n",
       "    }\n",
       "</style>\n",
       "<table border=\"1\" class=\"dataframe\">\n",
       "  <thead>\n",
       "    <tr style=\"text-align: right;\">\n",
       "      <th></th>\n",
       "      <th>date</th>\n",
       "      <th>favorites</th>\n",
       "      <th>geo</th>\n",
       "      <th>hashtags</th>\n",
       "      <th>id</th>\n",
       "      <th>mentions</th>\n",
       "      <th>permalink</th>\n",
       "      <th>retweets</th>\n",
       "      <th>text</th>\n",
       "      <th>username</th>\n",
       "      <th>neg</th>\n",
       "      <th>neu</th>\n",
       "      <th>pos</th>\n",
       "      <th>compound</th>\n",
       "    </tr>\n",
       "  </thead>\n",
       "  <tbody>\n",
       "    <tr>\n",
       "      <th>0</th>\n",
       "      <td>2017-10-05 19:57:30</td>\n",
       "      <td>0.0</td>\n",
       "      <td>NaN</td>\n",
       "      <td>[u'#Harvey', u'#Weinstein']</td>\n",
       "      <td>9.160900e+17</td>\n",
       "      <td>[]</td>\n",
       "      <td>https://twitter.com/ssoyuwis/status/9160899987...</td>\n",
       "      <td>0.0</td>\n",
       "      <td>Two decades ago, the Hollywood producer #Harve...</td>\n",
       "      <td>ssoyuwis</td>\n",
       "      <td>0.000</td>\n",
       "      <td>1.000</td>\n",
       "      <td>0.000</td>\n",
       "      <td>0.0000</td>\n",
       "    </tr>\n",
       "    <tr>\n",
       "      <th>1</th>\n",
       "      <td>2017-10-05 19:57:08</td>\n",
       "      <td>0.0</td>\n",
       "      <td>NaN</td>\n",
       "      <td>[]</td>\n",
       "      <td>9.160899e+17</td>\n",
       "      <td>[]</td>\n",
       "      <td>https://twitter.com/Touch4Healing/status/91608...</td>\n",
       "      <td>0.0</td>\n",
       "      <td>Harvey Weinstein Responds to Ashley Judd 's Se...</td>\n",
       "      <td>Touch4Healing</td>\n",
       "      <td>0.000</td>\n",
       "      <td>1.000</td>\n",
       "      <td>0.000</td>\n",
       "      <td>0.0000</td>\n",
       "    </tr>\n",
       "    <tr>\n",
       "      <th>2</th>\n",
       "      <td>2017-10-05 19:56:45</td>\n",
       "      <td>0.0</td>\n",
       "      <td>NaN</td>\n",
       "      <td>[]</td>\n",
       "      <td>9.160898e+17</td>\n",
       "      <td>[]</td>\n",
       "      <td>https://twitter.com/Aaron885290571/status/9160...</td>\n",
       "      <td>0.0</td>\n",
       "      <td>The hypocrisy of Ashley Judd . Calling trump a...</td>\n",
       "      <td>Aaron885290571 RitaPanahi nytimes</td>\n",
       "      <td>0.124</td>\n",
       "      <td>0.876</td>\n",
       "      <td>0.000</td>\n",
       "      <td>-0.4019</td>\n",
       "    </tr>\n",
       "    <tr>\n",
       "      <th>3</th>\n",
       "      <td>2017-10-05 19:56:45</td>\n",
       "      <td>6.0</td>\n",
       "      <td>NaN</td>\n",
       "      <td>[]</td>\n",
       "      <td>9.160898e+17</td>\n",
       "      <td>[]</td>\n",
       "      <td>https://twitter.com/ona3pica/status/9160898091...</td>\n",
       "      <td>0.0</td>\n",
       "      <td>I don't think highly of Harvey Weinstein, but ...</td>\n",
       "      <td>ona3pica MarkYoungTruth chuckwoolery POTUS</td>\n",
       "      <td>0.171</td>\n",
       "      <td>0.708</td>\n",
       "      <td>0.122</td>\n",
       "      <td>-0.3053</td>\n",
       "    </tr>\n",
       "    <tr>\n",
       "      <th>4</th>\n",
       "      <td>2017-10-05 19:56:16</td>\n",
       "      <td>0.0</td>\n",
       "      <td>NaN</td>\n",
       "      <td>[]</td>\n",
       "      <td>9.160897e+17</td>\n",
       "      <td>[]</td>\n",
       "      <td>https://twitter.com/SavetheUSNation/status/916...</td>\n",
       "      <td>0.0</td>\n",
       "      <td>http://ift.tt/2fVhVtR \" Ashley Judd is bravely...</td>\n",
       "      <td>SavetheUSNation</td>\n",
       "      <td>0.000</td>\n",
       "      <td>0.864</td>\n",
       "      <td>0.136</td>\n",
       "      <td>0.5106</td>\n",
       "    </tr>\n",
       "  </tbody>\n",
       "</table>\n",
       "</div>"
      ],
      "text/plain": [
       "                  date  favorites  geo                     hashtags  \\\n",
       "0  2017-10-05 19:57:30        0.0  NaN  [u'#Harvey', u'#Weinstein']   \n",
       "1  2017-10-05 19:57:08        0.0  NaN                           []   \n",
       "2  2017-10-05 19:56:45        0.0  NaN                           []   \n",
       "3  2017-10-05 19:56:45        6.0  NaN                           []   \n",
       "4  2017-10-05 19:56:16        0.0  NaN                           []   \n",
       "\n",
       "             id mentions                                          permalink  \\\n",
       "0  9.160900e+17       []  https://twitter.com/ssoyuwis/status/9160899987...   \n",
       "1  9.160899e+17       []  https://twitter.com/Touch4Healing/status/91608...   \n",
       "2  9.160898e+17       []  https://twitter.com/Aaron885290571/status/9160...   \n",
       "3  9.160898e+17       []  https://twitter.com/ona3pica/status/9160898091...   \n",
       "4  9.160897e+17       []  https://twitter.com/SavetheUSNation/status/916...   \n",
       "\n",
       "   retweets                                               text  \\\n",
       "0       0.0  Two decades ago, the Hollywood producer #Harve...   \n",
       "1       0.0  Harvey Weinstein Responds to Ashley Judd 's Se...   \n",
       "2       0.0  The hypocrisy of Ashley Judd . Calling trump a...   \n",
       "3       0.0  I don't think highly of Harvey Weinstein, but ...   \n",
       "4       0.0  http://ift.tt/2fVhVtR \" Ashley Judd is bravely...   \n",
       "\n",
       "                                     username    neg    neu    pos  compound  \n",
       "0                                    ssoyuwis  0.000  1.000  0.000    0.0000  \n",
       "1                               Touch4Healing  0.000  1.000  0.000    0.0000  \n",
       "2           Aaron885290571 RitaPanahi nytimes  0.124  0.876  0.000   -0.4019  \n",
       "3  ona3pica MarkYoungTruth chuckwoolery POTUS  0.171  0.708  0.122   -0.3053  \n",
       "4                             SavetheUSNation  0.000  0.864  0.136    0.5106  "
      ]
     },
     "execution_count": 38,
     "metadata": {},
     "output_type": "execute_result"
    }
   ],
   "source": [
    "ajs = pd.read_csv('ashley',delimiter='\\t').drop('Unnamed: 0', axis=1)\n",
    "ajs.head()"
   ]
  },
  {
   "cell_type": "code",
   "execution_count": 77,
   "metadata": {
    "collapsed": true
   },
   "outputs": [],
   "source": [
    "ajs['compound'].fillna(0, inplace=True)"
   ]
  },
  {
   "cell_type": "code",
   "execution_count": 78,
   "metadata": {},
   "outputs": [],
   "source": [
    "for t in ajs.text.replace(np.nan, ''):\n",
    "    try:\n",
    "        nlp.tweet_tokenize(t)\n",
    "    except:\n",
    "        display(t)"
   ]
  },
  {
   "cell_type": "code",
   "execution_count": 79,
   "metadata": {},
   "outputs": [],
   "source": [
    "ajs['tokens'] = ajs.text.replace(np.nan, '').apply(nlp.tweet_tokenize)"
   ]
  },
  {
   "cell_type": "code",
   "execution_count": 80,
   "metadata": {},
   "outputs": [
    {
     "data": {
      "text/html": [
       "<div>\n",
       "<style>\n",
       "    .dataframe thead tr:only-child th {\n",
       "        text-align: right;\n",
       "    }\n",
       "\n",
       "    .dataframe thead th {\n",
       "        text-align: left;\n",
       "    }\n",
       "\n",
       "    .dataframe tbody tr th {\n",
       "        vertical-align: top;\n",
       "    }\n",
       "</style>\n",
       "<table border=\"1\" class=\"dataframe\">\n",
       "  <thead>\n",
       "    <tr style=\"text-align: right;\">\n",
       "      <th></th>\n",
       "      <th>tokens</th>\n",
       "    </tr>\n",
       "  </thead>\n",
       "  <tbody>\n",
       "    <tr>\n",
       "      <th>0</th>\n",
       "      <td>[Two, decades, ago, Hollywood, producer, #Harv...</td>\n",
       "    </tr>\n",
       "    <tr>\n",
       "      <th>1</th>\n",
       "      <td>[Harvey, Weinstein, Responds, Ashley, Judd, Se...</td>\n",
       "    </tr>\n",
       "    <tr>\n",
       "      <th>2</th>\n",
       "      <td>[The, hypocrisy, Ashley, Judd, Calling, trump,...</td>\n",
       "    </tr>\n",
       "    <tr>\n",
       "      <th>3</th>\n",
       "      <td>[I, don't, think, highly, Harvey, Weinstein, I...</td>\n",
       "    </tr>\n",
       "    <tr>\n",
       "      <th>4</th>\n",
       "      <td>[Ashley, Judd, bravely, coming, Weinstein, Now...</td>\n",
       "    </tr>\n",
       "  </tbody>\n",
       "</table>\n",
       "</div>"
      ],
      "text/plain": [
       "                                              tokens\n",
       "0  [Two, decades, ago, Hollywood, producer, #Harv...\n",
       "1  [Harvey, Weinstein, Responds, Ashley, Judd, Se...\n",
       "2  [The, hypocrisy, Ashley, Judd, Calling, trump,...\n",
       "3  [I, don't, think, highly, Harvey, Weinstein, I...\n",
       "4  [Ashley, Judd, bravely, coming, Weinstein, Now..."
      ]
     },
     "execution_count": 80,
     "metadata": {},
     "output_type": "execute_result"
    }
   ],
   "source": [
    "ajs[['tokens']].head()"
   ]
  },
  {
   "cell_type": "code",
   "execution_count": 88,
   "metadata": {},
   "outputs": [],
   "source": [
    "pcounter = Counter()\n",
    "psentiment = {}\n",
    "ncounter = Counter()\n",
    "nsentiment = {}\n",
    "\n",
    "for i, tweet in ajs.iterrows():\n",
    "    for word in tweet['tokens']:\n",
    "        count_update = 1 + tweet['retweets']\n",
    "        if tweet['compound'] > 0:\n",
    "            pcounter.update({word: count_update})\n",
    "            psentiment[word] = psentiment.get(word, 0) + count_update * tweet['compound']\n",
    "        else:\n",
    "            ncounter.update({word: count_update})\n",
    "            nsentiment[word] = nsentiment.get(word, 0) + count_update * tweet['compound'] "
   ]
  },
  {
   "cell_type": "code",
   "execution_count": 86,
   "metadata": {},
   "outputs": [
    {
     "data": {
      "text/plain": [
       "([('Ashley', 2780.0, 0.4848535611510781),\n",
       "  ('Judd', 2775.0, 0.4846761441441432),\n",
       "  ('\\xe2', 1165.0, 0.4554735622317596),\n",
       "  ('\\x80', 1157.0, 0.4556947277441659),\n",
       "  ('Weinstein', 1096.0, 0.5135138686131387),\n",
       "  ('I', 646.0, 0.5356513931888548),\n",
       "  ('\\xa6', 518.0, 0.46822934362934343),\n",
       "  ('\\x99', 436.0, 0.41103371559632995),\n",
       "  ('years', 422.0, 0.5480890995260664),\n",
       "  ('Harvey', 386.0, 0.5297852331606215),\n",
       "  ('women', 270.0, 0.6042433333333331),\n",
       "  ('ago', 253.0, 0.5945561264822133),\n",
       "  ('20', 249.0, 0.6355253012048192),\n",
       "  ('like', 245.0, 0.5597138775510201),\n",
       "  ('sex', 243.0, 0.4535674897119341),\n",
       "  (\"didn't\", 224.0, 0.6630026785714283),\n",
       "  ('right', 209.0, 0.6644282296650716),\n",
       "  ('Good', 208.0, 0.679883173076923),\n",
       "  (\"that's\", 203.0, 0.6773901477832511),\n",
       "  ('feminist', 200.0, 0.4222795)],\n",
       " [('Ashley', 14377.0, -0.672443479168118),\n",
       "  ('Judd', 14348.0, -0.6728315235572924),\n",
       "  ('Hollywood', 5995.0, -0.7893268890742288),\n",
       "  ('Women', 5874.0, -0.7742464249233915),\n",
       "  ('Madonna', 5773.0, -0.7867645764767018),\n",
       "  ('wearing', 5752.0, -0.7877461230876216),\n",
       "  ('March', 5737.0, -0.7904505316367437),\n",
       "  ('Will', 5720.0, -0.7888523601398602),\n",
       "  ('When', 5718.0, -0.7899189576775095),\n",
       "  ('speak', 5713.0, -0.7900901977945037),\n",
       "  ('hats', 5709.0, -0.7899925906463476),\n",
       "  ('vagina', 5707.0, -0.7901195724548798),\n",
       "  ('Hey', 5707.0, -0.7899884177326091),\n",
       "  ('Michael', 5704.0, -0.790193618513324),\n",
       "  ('On', 5704.0, -0.7899062412342214),\n",
       "  ('#HarveyWeinstein', 5704.0, -0.7901763148667601),\n",
       "  ('Moore', 5702.0, -0.7901661346895825),\n",
       "  ('Tell', 5700.0, -0.7903647192982455),\n",
       "  ('Are', 5698.0, -0.7904858371358371),\n",
       "  ('Scarlett', 5695.0, -0.7905611940298506)])"
      ]
     },
     "execution_count": 86,
     "metadata": {},
     "output_type": "execute_result"
    }
   ],
   "source": [
    "[\n",
    "    (word, count, psentiment[word] / count)\n",
    "    for word, count in pcounter.most_common(20)\n",
    "], [\n",
    "    (word, count, nsentiment[word] / count)\n",
    "    for word, count in ncounter.most_common(20)\n",
    "]   "
   ]
  },
  {
   "cell_type": "code",
   "execution_count": 92,
   "metadata": {},
   "outputs": [],
   "source": [
    "judd_count_senti = pd.DataFrame([\n",
    "   (str(word), pcounter.get(str(word), 0), ncounter.get(str(word), 0), psentiment.get(str(word), 0) / pcounter.get(str(word), 1), nsentiment.get(str(word), 0) / ncounter.get(str(word), 1))\n",
    "    for word in set(psentiment.keys()) & set(nsentiment.keys())\n",
    "], columns=['word', 'positive count', 'negative count', 'positive sentiment', 'negative sentiment'])"
   ]
  },
  {
   "cell_type": "code",
   "execution_count": 93,
   "metadata": {},
   "outputs": [
    {
     "data": {
      "text/html": [
       "<div>\n",
       "<style>\n",
       "    .dataframe thead tr:only-child th {\n",
       "        text-align: right;\n",
       "    }\n",
       "\n",
       "    .dataframe thead th {\n",
       "        text-align: left;\n",
       "    }\n",
       "\n",
       "    .dataframe tbody tr th {\n",
       "        vertical-align: top;\n",
       "    }\n",
       "</style>\n",
       "<table border=\"1\" class=\"dataframe\">\n",
       "  <thead>\n",
       "    <tr style=\"text-align: right;\">\n",
       "      <th></th>\n",
       "      <th>word</th>\n",
       "      <th>positive count</th>\n",
       "      <th>negative count</th>\n",
       "      <th>positive sentiment</th>\n",
       "      <th>negative sentiment</th>\n",
       "    </tr>\n",
       "  </thead>\n",
       "  <tbody>\n",
       "    <tr>\n",
       "      <th>0</th>\n",
       "      <td>hats</td>\n",
       "      <td>6.0</td>\n",
       "      <td>5709.0</td>\n",
       "      <td>0.335050</td>\n",
       "      <td>-0.789993</td>\n",
       "    </tr>\n",
       "    <tr>\n",
       "      <th>1</th>\n",
       "      <td>NYT</td>\n",
       "      <td>3.0</td>\n",
       "      <td>36.0</td>\n",
       "      <td>0.260900</td>\n",
       "      <td>-0.664642</td>\n",
       "    </tr>\n",
       "    <tr>\n",
       "      <th>2</th>\n",
       "      <td>whoopi</td>\n",
       "      <td>1.0</td>\n",
       "      <td>1.0</td>\n",
       "      <td>0.421500</td>\n",
       "      <td>-0.340000</td>\n",
       "    </tr>\n",
       "    <tr>\n",
       "      <th>3</th>\n",
       "      <td>protest</td>\n",
       "      <td>2.0</td>\n",
       "      <td>6.0</td>\n",
       "      <td>0.177700</td>\n",
       "      <td>-0.617983</td>\n",
       "    </tr>\n",
       "    <tr>\n",
       "      <th>4</th>\n",
       "      <td>Does</td>\n",
       "      <td>7.0</td>\n",
       "      <td>2.0</td>\n",
       "      <td>0.604557</td>\n",
       "      <td>-0.170000</td>\n",
       "    </tr>\n",
       "  </tbody>\n",
       "</table>\n",
       "</div>"
      ],
      "text/plain": [
       "      word  positive count  negative count  positive sentiment  \\\n",
       "0     hats             6.0          5709.0            0.335050   \n",
       "1      NYT             3.0            36.0            0.260900   \n",
       "2   whoopi             1.0             1.0            0.421500   \n",
       "3  protest             2.0             6.0            0.177700   \n",
       "4     Does             7.0             2.0            0.604557   \n",
       "\n",
       "   negative sentiment  \n",
       "0           -0.789993  \n",
       "1           -0.664642  \n",
       "2           -0.340000  \n",
       "3           -0.617983  \n",
       "4           -0.170000  "
      ]
     },
     "execution_count": 93,
     "metadata": {},
     "output_type": "execute_result"
    }
   ],
   "source": [
    "judd_count_senti.head()"
   ]
  },
  {
   "cell_type": "code",
   "execution_count": 94,
   "metadata": {
    "collapsed": true
   },
   "outputs": [],
   "source": [
    "judd_count_senti.to_csv('judd_count_senti.csv')"
   ]
  },
  {
   "cell_type": "code",
   "execution_count": null,
   "metadata": {
    "collapsed": true
   },
   "outputs": [],
   "source": []
  },
  {
   "cell_type": "code",
   "execution_count": null,
   "metadata": {
    "collapsed": true
   },
   "outputs": [],
   "source": []
  },
  {
   "cell_type": "code",
   "execution_count": null,
   "metadata": {
    "collapsed": true
   },
   "outputs": [],
   "source": []
  },
  {
   "cell_type": "code",
   "execution_count": null,
   "metadata": {
    "collapsed": true
   },
   "outputs": [],
   "source": []
  }
 ],
 "metadata": {
  "kernelspec": {
   "display_name": "Python 2",
   "language": "python",
   "name": "python2"
  },
  "language_info": {
   "codemirror_mode": {
    "name": "ipython",
    "version": 2
   },
   "file_extension": ".py",
   "mimetype": "text/x-python",
   "name": "python",
   "nbconvert_exporter": "python",
   "pygments_lexer": "ipython2",
   "version": "2.7.13"
  }
 },
 "nbformat": 4,
 "nbformat_minor": 2
}
