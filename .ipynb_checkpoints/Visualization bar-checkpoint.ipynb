{
 "cells": [
  {
   "cell_type": "code",
   "execution_count": 2,
   "metadata": {},
   "outputs": [
    {
     "name": "stdout",
     "output_type": "stream",
     "text": [
      "Collecting matplotlib\n",
      "  Downloading matplotlib-2.1.0-cp27-cp27m-win_amd64.whl (8.4MB)\n",
      "Collecting backports.functools-lru-cache (from matplotlib)\n",
      "  Downloading backports.functools_lru_cache-1.4-py2.py3-none-any.whl\n",
      "Requirement already satisfied: six>=1.10 in c:\\users\\swati\\anaconda3\\envs\\myenv\\lib\\site-packages (from matplotlib)\n",
      "Requirement already satisfied: pytz in c:\\users\\swati\\anaconda3\\envs\\myenv\\lib\\site-packages (from matplotlib)\n",
      "Collecting cycler>=0.10 (from matplotlib)\n",
      "  Downloading cycler-0.10.0-py2.py3-none-any.whl\n",
      "Requirement already satisfied: python-dateutil>=2.0 in c:\\users\\swati\\anaconda3\\envs\\myenv\\lib\\site-packages (from matplotlib)\n",
      "Collecting pyparsing!=2.0.4,!=2.1.2,!=2.1.6,>=2.0.1 (from matplotlib)\n",
      "  Downloading pyparsing-2.2.0-py2.py3-none-any.whl (56kB)\n",
      "Requirement already satisfied: numpy>=1.7.1 in c:\\users\\swati\\anaconda3\\envs\\myenv\\lib\\site-packages (from matplotlib)\n",
      "Installing collected packages: backports.functools-lru-cache, cycler, pyparsing, matplotlib\n",
      "Successfully installed backports.functools-lru-cache-1.4 cycler-0.10.0 matplotlib-2.1.0 pyparsing-2.2.0\n"
     ]
    }
   ],
   "source": [
    "!pip install matplotlib"
   ]
  },
  {
   "cell_type": "code",
   "execution_count": 1,
   "metadata": {},
   "outputs": [
    {
     "name": "stdout",
     "output_type": "stream",
     "text": [
      "Requirement already satisfied: seaborn in c:\\users\\swati\\anaconda3\\envs\\myenv\\lib\\site-packages\n",
      "Requirement already satisfied: scipy in c:\\users\\swati\\anaconda3\\envs\\myenv\\lib\\site-packages (from seaborn)\n",
      "Requirement already satisfied: numpy>=1.8.2 in c:\\users\\swati\\anaconda3\\envs\\myenv\\lib\\site-packages (from scipy->seaborn)\n"
     ]
    }
   ],
   "source": [
    "!pip install seaborn"
   ]
  },
  {
   "cell_type": "code",
   "execution_count": 2,
   "metadata": {},
   "outputs": [],
   "source": [
    "import numpy as np\n",
    "import pandas as pd\n",
    "import matplotlib.pyplot as plt\n",
    "import seaborn as sns\n",
    "%matplotlib inline\n",
    "plt.rcParams['figure.figsize'] = 15, 6\n",
    "plt.rcParams['legend.frameon'] = True\n",
    "sns.set_style(\"white\")"
   ]
  },
  {
   "cell_type": "code",
   "execution_count": 4,
   "metadata": {
    "scrolled": true
   },
   "outputs": [
    {
     "data": {
      "text/html": [
       "<div>\n",
       "<style scoped>\n",
       "    .dataframe tbody tr th:only-of-type {\n",
       "        vertical-align: middle;\n",
       "    }\n",
       "\n",
       "    .dataframe tbody tr th {\n",
       "        vertical-align: top;\n",
       "    }\n",
       "\n",
       "    .dataframe thead th {\n",
       "        text-align: right;\n",
       "    }\n",
       "</style>\n",
       "<table border=\"1\" class=\"dataframe\">\n",
       "  <thead>\n",
       "    <tr style=\"text-align: right;\">\n",
       "      <th></th>\n",
       "      <th>date</th>\n",
       "      <th>geo</th>\n",
       "      <th>permalink</th>\n",
       "      <th>retweets</th>\n",
       "      <th>text</th>\n",
       "      <th>neg</th>\n",
       "      <th>neu</th>\n",
       "      <th>pos</th>\n",
       "      <th>compound</th>\n",
       "    </tr>\n",
       "  </thead>\n",
       "  <tbody>\n",
       "    <tr>\n",
       "      <th>0</th>\n",
       "      <td>2017-10-05 19:59:59</td>\n",
       "      <td>NaN</td>\n",
       "      <td>https://twitter.com/Wit2Tweet/status/916090624...</td>\n",
       "      <td>0</td>\n",
       "      <td>Quotes From The Harvey Weinstein 'New York Tim...</td>\n",
       "      <td>0.073</td>\n",
       "      <td>0.822</td>\n",
       "      <td>0.105</td>\n",
       "      <td>0.1779</td>\n",
       "    </tr>\n",
       "    <tr>\n",
       "      <th>1</th>\n",
       "      <td>2017-10-05 19:59:58</td>\n",
       "      <td>NaN</td>\n",
       "      <td>https://twitter.com/SheeitDawg/status/91609061...</td>\n",
       "      <td>0</td>\n",
       "      <td>Can't wait to see if Harvey Weinstein 's big a...</td>\n",
       "      <td>0.0</td>\n",
       "      <td>1.0</td>\n",
       "      <td>0.0</td>\n",
       "      <td>0.0000</td>\n",
       "    </tr>\n",
       "    <tr>\n",
       "      <th>2</th>\n",
       "      <td>2017-10-05 19:59:52</td>\n",
       "      <td>NaN</td>\n",
       "      <td>https://twitter.com/jacobwe/status/91609059305...</td>\n",
       "      <td>0</td>\n",
       "      <td>People who won't be suing the New York Times: ...</td>\n",
       "      <td>0.0</td>\n",
       "      <td>0.858</td>\n",
       "      <td>0.142</td>\n",
       "      <td>0.2057</td>\n",
       "    </tr>\n",
       "    <tr>\n",
       "      <th>3</th>\n",
       "      <td>2017-10-05 19:59:48</td>\n",
       "      <td>NaN</td>\n",
       "      <td>https://twitter.com/fundasila1/status/91609057...</td>\n",
       "      <td>0</td>\n",
       "      <td>Bets and coupons of 6 October. Good luck to al...</td>\n",
       "      <td>0.0</td>\n",
       "      <td>0.643</td>\n",
       "      <td>0.357</td>\n",
       "      <td>0.8360</td>\n",
       "    </tr>\n",
       "    <tr>\n",
       "      <th>4</th>\n",
       "      <td>2017-10-05 19:59:46</td>\n",
       "      <td>NaN</td>\n",
       "      <td>https://twitter.com/nickprice91/status/9160905...</td>\n",
       "      <td>0</td>\n",
       "      <td>It’s complicated: Dems who took money from Har...</td>\n",
       "      <td>0.0</td>\n",
       "      <td>1.0</td>\n",
       "      <td>0.0</td>\n",
       "      <td>0.0000</td>\n",
       "    </tr>\n",
       "  </tbody>\n",
       "</table>\n",
       "</div>"
      ],
      "text/plain": [
       "                  date  geo  \\\n",
       "0  2017-10-05 19:59:59  NaN   \n",
       "1  2017-10-05 19:59:58  NaN   \n",
       "2  2017-10-05 19:59:52  NaN   \n",
       "3  2017-10-05 19:59:48  NaN   \n",
       "4  2017-10-05 19:59:46  NaN   \n",
       "\n",
       "                                           permalink retweets  \\\n",
       "0  https://twitter.com/Wit2Tweet/status/916090624...        0   \n",
       "1  https://twitter.com/SheeitDawg/status/91609061...        0   \n",
       "2  https://twitter.com/jacobwe/status/91609059305...        0   \n",
       "3  https://twitter.com/fundasila1/status/91609057...        0   \n",
       "4  https://twitter.com/nickprice91/status/9160905...        0   \n",
       "\n",
       "                                                text    neg    neu    pos  \\\n",
       "0  Quotes From The Harvey Weinstein 'New York Tim...  0.073  0.822  0.105   \n",
       "1  Can't wait to see if Harvey Weinstein 's big a...    0.0    1.0    0.0   \n",
       "2  People who won't be suing the New York Times: ...    0.0  0.858  0.142   \n",
       "3  Bets and coupons of 6 October. Good luck to al...    0.0  0.643  0.357   \n",
       "4  It’s complicated: Dems who took money from Har...    0.0    1.0    0.0   \n",
       "\n",
       "   compound  \n",
       "0    0.1779  \n",
       "1    0.0000  \n",
       "2    0.2057  \n",
       "3    0.8360  \n",
       "4    0.0000  "
      ]
     },
     "execution_count": 4,
     "metadata": {},
     "output_type": "execute_result"
    }
   ],
   "source": [
    "wdf = pd.read_csv('weinstein_sentiment.csv', delimiter='\\t', skiprows=1)#.drop('Unnamed: 0', axis=1)\n",
    "wdf['compound'] = pd.to_numeric(wdf['compound'], errors='coerce').replace(np.nan, 0)\n",
    "# wdf.date = pd.to_datetime(wdf.date)\n",
    "# wdf = wdf.set_index('date')\n",
    "wdf.head()"
   ]
  },
  {
   "cell_type": "code",
   "execution_count": 6,
   "metadata": {},
   "outputs": [
    {
     "data": {
      "text/html": [
       "<div>\n",
       "<style scoped>\n",
       "    .dataframe tbody tr th:only-of-type {\n",
       "        vertical-align: middle;\n",
       "    }\n",
       "\n",
       "    .dataframe tbody tr th {\n",
       "        vertical-align: top;\n",
       "    }\n",
       "\n",
       "    .dataframe thead th {\n",
       "        text-align: right;\n",
       "    }\n",
       "</style>\n",
       "<table border=\"1\" class=\"dataframe\">\n",
       "  <thead>\n",
       "    <tr style=\"text-align: right;\">\n",
       "      <th></th>\n",
       "      <th>date</th>\n",
       "      <th>favorites</th>\n",
       "      <th>geo</th>\n",
       "      <th>hashtags</th>\n",
       "      <th>id</th>\n",
       "      <th>mentions</th>\n",
       "      <th>permalink</th>\n",
       "      <th>retweets</th>\n",
       "      <th>text</th>\n",
       "      <th>username</th>\n",
       "      <th>neg</th>\n",
       "      <th>neu</th>\n",
       "      <th>pos</th>\n",
       "      <th>compound</th>\n",
       "    </tr>\n",
       "  </thead>\n",
       "  <tbody>\n",
       "    <tr>\n",
       "      <th>0</th>\n",
       "      <td>2017-10-05 19:57:30</td>\n",
       "      <td>0.0</td>\n",
       "      <td>NaN</td>\n",
       "      <td>[u'#Harvey', u'#Weinstein']</td>\n",
       "      <td>9.160900e+17</td>\n",
       "      <td>[]</td>\n",
       "      <td>https://twitter.com/ssoyuwis/status/9160899987...</td>\n",
       "      <td>0.0</td>\n",
       "      <td>Two decades ago, the Hollywood producer #Harve...</td>\n",
       "      <td>ssoyuwis</td>\n",
       "      <td>0.000</td>\n",
       "      <td>1.000</td>\n",
       "      <td>0.000</td>\n",
       "      <td>0.0000</td>\n",
       "    </tr>\n",
       "    <tr>\n",
       "      <th>1</th>\n",
       "      <td>2017-10-05 19:57:08</td>\n",
       "      <td>0.0</td>\n",
       "      <td>NaN</td>\n",
       "      <td>[]</td>\n",
       "      <td>9.160899e+17</td>\n",
       "      <td>[]</td>\n",
       "      <td>https://twitter.com/Touch4Healing/status/91608...</td>\n",
       "      <td>0.0</td>\n",
       "      <td>Harvey Weinstein Responds to Ashley Judd 's Se...</td>\n",
       "      <td>Touch4Healing</td>\n",
       "      <td>0.000</td>\n",
       "      <td>1.000</td>\n",
       "      <td>0.000</td>\n",
       "      <td>0.0000</td>\n",
       "    </tr>\n",
       "    <tr>\n",
       "      <th>2</th>\n",
       "      <td>2017-10-05 19:56:45</td>\n",
       "      <td>0.0</td>\n",
       "      <td>NaN</td>\n",
       "      <td>[]</td>\n",
       "      <td>9.160898e+17</td>\n",
       "      <td>[]</td>\n",
       "      <td>https://twitter.com/Aaron885290571/status/9160...</td>\n",
       "      <td>0.0</td>\n",
       "      <td>The hypocrisy of Ashley Judd . Calling trump a...</td>\n",
       "      <td>Aaron885290571 RitaPanahi nytimes</td>\n",
       "      <td>0.124</td>\n",
       "      <td>0.876</td>\n",
       "      <td>0.000</td>\n",
       "      <td>-0.4019</td>\n",
       "    </tr>\n",
       "    <tr>\n",
       "      <th>3</th>\n",
       "      <td>2017-10-05 19:56:45</td>\n",
       "      <td>6.0</td>\n",
       "      <td>NaN</td>\n",
       "      <td>[]</td>\n",
       "      <td>9.160898e+17</td>\n",
       "      <td>[]</td>\n",
       "      <td>https://twitter.com/ona3pica/status/9160898091...</td>\n",
       "      <td>0.0</td>\n",
       "      <td>I don't think highly of Harvey Weinstein, but ...</td>\n",
       "      <td>ona3pica MarkYoungTruth chuckwoolery POTUS</td>\n",
       "      <td>0.171</td>\n",
       "      <td>0.708</td>\n",
       "      <td>0.122</td>\n",
       "      <td>-0.3053</td>\n",
       "    </tr>\n",
       "    <tr>\n",
       "      <th>4</th>\n",
       "      <td>2017-10-05 19:56:16</td>\n",
       "      <td>0.0</td>\n",
       "      <td>NaN</td>\n",
       "      <td>[]</td>\n",
       "      <td>9.160897e+17</td>\n",
       "      <td>[]</td>\n",
       "      <td>https://twitter.com/SavetheUSNation/status/916...</td>\n",
       "      <td>0.0</td>\n",
       "      <td>http://ift.tt/2fVhVtR \" Ashley Judd is bravely...</td>\n",
       "      <td>SavetheUSNation</td>\n",
       "      <td>0.000</td>\n",
       "      <td>0.864</td>\n",
       "      <td>0.136</td>\n",
       "      <td>0.5106</td>\n",
       "    </tr>\n",
       "  </tbody>\n",
       "</table>\n",
       "</div>"
      ],
      "text/plain": [
       "                  date  favorites  geo                     hashtags  \\\n",
       "0  2017-10-05 19:57:30        0.0  NaN  [u'#Harvey', u'#Weinstein']   \n",
       "1  2017-10-05 19:57:08        0.0  NaN                           []   \n",
       "2  2017-10-05 19:56:45        0.0  NaN                           []   \n",
       "3  2017-10-05 19:56:45        6.0  NaN                           []   \n",
       "4  2017-10-05 19:56:16        0.0  NaN                           []   \n",
       "\n",
       "             id mentions                                          permalink  \\\n",
       "0  9.160900e+17       []  https://twitter.com/ssoyuwis/status/9160899987...   \n",
       "1  9.160899e+17       []  https://twitter.com/Touch4Healing/status/91608...   \n",
       "2  9.160898e+17       []  https://twitter.com/Aaron885290571/status/9160...   \n",
       "3  9.160898e+17       []  https://twitter.com/ona3pica/status/9160898091...   \n",
       "4  9.160897e+17       []  https://twitter.com/SavetheUSNation/status/916...   \n",
       "\n",
       "   retweets                                               text  \\\n",
       "0       0.0  Two decades ago, the Hollywood producer #Harve...   \n",
       "1       0.0  Harvey Weinstein Responds to Ashley Judd 's Se...   \n",
       "2       0.0  The hypocrisy of Ashley Judd . Calling trump a...   \n",
       "3       0.0  I don't think highly of Harvey Weinstein, but ...   \n",
       "4       0.0  http://ift.tt/2fVhVtR \" Ashley Judd is bravely...   \n",
       "\n",
       "                                     username    neg    neu    pos  compound  \n",
       "0                                    ssoyuwis  0.000  1.000  0.000    0.0000  \n",
       "1                               Touch4Healing  0.000  1.000  0.000    0.0000  \n",
       "2           Aaron885290571 RitaPanahi nytimes  0.124  0.876  0.000   -0.4019  \n",
       "3  ona3pica MarkYoungTruth chuckwoolery POTUS  0.171  0.708  0.122   -0.3053  \n",
       "4                             SavetheUSNation  0.000  0.864  0.136    0.5106  "
      ]
     },
     "execution_count": 6,
     "metadata": {},
     "output_type": "execute_result"
    }
   ],
   "source": [
    "vdf = pd.read_csv('ashley_sentiment.csv', delimiter='\\t').drop('Unnamed: 0', axis=1)\n",
    "# vdf.date = pd.to_datetime(vdf.date)\n",
    "# vdf = vdf.set_index('date')\n",
    "vdf.head()"
   ]
  },
  {
   "cell_type": "code",
   "execution_count": null,
   "metadata": {},
   "outputs": [],
   "source": [
    "# def map_quality(sent):\n",
    "#     if sent > 0.05:\n",
    "#         return 'positive'\n",
    "#     if sent < -0.05:\n",
    "#         return 'negative'\n",
    "#     return 'neutral'\n",
    "\n",
    "# df['quality'] = df['compound'].apply(map_quality)\n",
    "# df.head()   "
   ]
  },
  {
   "cell_type": "code",
   "execution_count": null,
   "metadata": {
    "scrolled": true
   },
   "outputs": [],
   "source": [
    "# df2 = df.groupby(pd.TimeGrouper(freq='d')).apply(lambda g: g.groupby('quality').agg([np.mean, len]))[['compound']]\n",
    "# df2 = df2.unstack(level='quality')\n",
    "# df2.columns = df2.columns.droplevel()\n",
    "# df2.head()"
   ]
  },
  {
   "cell_type": "code",
   "execution_count": null,
   "metadata": {},
   "outputs": [],
   "source": [
    "# df3 = pd.concat([\n",
    "#     df2['mean'].rename(columns={c[1]: c[1]+'_mean' for c in df2.columns}),\n",
    "#     df2['len'].rename(columns={c[1]: c[1]+'_count' for c in df2.columns})\n",
    "# ], axis=1)\n",
    "# df3.to_csv('sentiment-daily-counts.csv')\n",
    "# df3.head()"
   ]
  },
  {
   "cell_type": "code",
   "execution_count": null,
   "metadata": {},
   "outputs": [],
   "source": [
    "df2.plot.area(stacked=True)\n",
    "plt.legend(loc='lower left')"
   ]
  },
  {
   "cell_type": "code",
   "execution_count": null,
   "metadata": {
    "scrolled": false
   },
   "outputs": [],
   "source": [
    "cmap = sns.diverging_palette(220, 10, sep=80, n=3)\n",
    "\n",
    "plt.stackplot(\n",
    "    np.arange(100), \n",
    "    *[np.random.normal(size=100) + 4 for i in np.arange(3)], \n",
    "    colors=cmap)\n",
    "plt.stackplot(\n",
    "    np.arange(100), \n",
    "    *[np.random.normal(size=100) - 4 for i in np.arange(3)], \n",
    "    colors=cmap);"
   ]
  },
  {
   "cell_type": "code",
   "execution_count": 175,
   "metadata": {},
   "outputs": [
    {
     "data": {
      "text/plain": [
       "Unnamed: 0     object\n",
       "date           object\n",
       "geo            object\n",
       "permalink      object\n",
       "retweets       object\n",
       "text           object\n",
       "neg            object\n",
       "neu            object\n",
       "pos            object\n",
       "compound      float64\n",
       "dtype: object"
      ]
     },
     "execution_count": 175,
     "metadata": {},
     "output_type": "execute_result"
    }
   ],
   "source": [
    "wdf.dtypes"
   ]
  },
  {
   "cell_type": "code",
   "execution_count": 194,
   "metadata": {},
   "outputs": [],
   "source": [
    "wdf['quality'] = wdf['compound'].apply(lambda v: 'positive' if v > 0 else 'negative')\n",
    "wdf2 = wdf.groupby('quality').mean()['compound']\n",
    "\n",
    "vdf['quality'] = vdf['compound'].apply(lambda v: 'positive' if v > 0 else 'negative')\n",
    "vdf2 = vdf.groupby('quality').mean()['compound']"
   ]
  },
  {
   "cell_type": "code",
   "execution_count": 195,
   "metadata": {},
   "outputs": [
    {
     "data": {
      "text/plain": [
       "quality\n",
       "negative   -0.296381\n",
       "positive    0.424771\n",
       "Name: compound, dtype: float64"
      ]
     },
     "execution_count": 195,
     "metadata": {},
     "output_type": "execute_result"
    }
   ],
   "source": [
    "wdf2"
   ]
  },
  {
   "cell_type": "code",
   "execution_count": 208,
   "metadata": {
    "scrolled": false
   },
   "outputs": [
    {
     "data": {
      "image/png": "[encoded data removed]",
      "text/plain": [
       "<matplotlib.figure.Figure at 0x1164e8390>"
      ]
     },
     "metadata": {},
     "output_type": "display_data"
    }
   ],
   "source": [
    "plt.figure(figsize=(12,6))\n",
    "plt.bar([0, 1], [wdf2['positive'], vdf2['positive']], width=0.2)\n",
    "plt.bar([0, 1], [wdf2['negative'], vdf2['negative']], color='r', width=0.2)\n",
    "plt.title('')\n",
    "plt.xticks([0.1, 1.1], ['Weinstein', 'Victims'])\n",
    "plt.ylabel('Sentiment neg=-1, pos=1');"
   ]
  },
  {
   "cell_type": "code",
   "execution_count": null,
   "metadata": {},
   "outputs": [],
   "source": [
    "# wdfw = pd.read_csv('harvey_count_senti.csv')\n",
    "# vdfw = pd.concat"
   ]
  },
  {
   "cell_type": "code",
   "execution_count": 206,
   "metadata": {},
   "outputs": [
    {
     "data": {
      "text/html": [
       "<div id='chart'></div>\n",
       "<script>\n",
       "var width = 1000, height = 600;\n",
       "var margin = 10;\n",
       "\n",
       "var container = d3.select('#chart');\n",
       "var svg = container.append(\"svg\")\n",
       "        .attr(\"width\", width + 2*margin)\n",
       "        .attr(\"height\", height + 2*margin)\n",
       "</script>"
      ],
      "text/plain": [
       "<IPython.core.display.HTML object>"
      ]
     },
     "metadata": {},
     "output_type": "display_data"
    }
   ],
   "source": [
    "# %%html\n",
    "# <div id='chart'></div>\n",
    "# <script>\n",
    "# var width = 1000, height = 600;\n",
    "# var margin = 10;\n",
    "\n",
    "# var container = d3.select('#chart');\n",
    "# var svg = container.append(\"svg\")\n",
    "#         .attr(\"width\", width + 2*margin)\n",
    "#         .attr(\"height\", height + 2*margin);\n",
    "   \n",
    "# node = svg.append(\"g\").selectAll(\".node\")\n",
    "\n",
    "# node = node\n",
    "#     .data(root.leaves())\n",
    "#     .enter().append(\"text\")\n",
    "#       .attr(\"class\", \"node\")\n",
    "#       .attr(\"dy\", \"0.31em\")\n",
    "#       .attr(\"transform\", function(d) { return \"rotate(\" + (d.x - 90) + \")translate(\" + (d.y + 8) + \",0)\" + (d.x < 180 ? \"\" : \"rotate(180)\"); })\n",
    "#       .attr(\"text-anchor\", function(d) { return d.x < 180 ? \"start\" : \"end\"; })\n",
    "#       .text(function(d) { return d.data.key; });\n",
    "\n",
    "# </script>"
   ]
  },
  {
   "cell_type": "code",
   "execution_count": null,
   "metadata": {},
   "outputs": [],
   "source": []
  }
 ],
 "metadata": {
  "kernelspec": {
   "display_name": "Python 2",
   "language": "python",
   "name": "python2"
  },
  "language_info": {
   "codemirror_mode": {
    "name": "ipython",
    "version": 2
   },
   "file_extension": ".py",
   "mimetype": "text/x-python",
   "name": "python",
   "nbconvert_exporter": "python",
   "pygments_lexer": "ipython2",
   "version": "2.7.14"
  }
 },
 "nbformat": 4,
 "nbformat_minor": 2
}
